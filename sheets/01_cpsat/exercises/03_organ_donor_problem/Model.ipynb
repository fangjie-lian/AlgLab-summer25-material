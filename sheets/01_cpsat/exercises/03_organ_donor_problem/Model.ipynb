{
 "cells": [
  {
   "cell_type": "markdown",
   "id": "ee0c987a",
   "metadata": {},
   "source": [
    "patient 患者\n",
    "donor 捐赠者\n",
    "donor-recipient pair: (patient's willing but incompatible doner, patient) = (di, ri)\n",
    "- Please note that multiple donors can register for the same patient, so there might exist multiple pairs for each recipient. Still, only one of the associated donors will make a donation in those cases.\n",
    "\n",
    "Objective: Given a set of donor-recipient pairs with certain compatibility parameters, your task is to maximize the number of successful crossover transplantations.\n",
    "\n",
    "Input: (di, ri),  Recipients can occur more than once, but donors will only appear once\n",
    "\n",
    "# Achtung, i = index, (di, ri) ist nicht unbedingt ein Pair\n",
    "\n",
    "Constraints:\n",
    "1. A donor can only donate once.\n",
    "2. A recipient can only receive one organ.\n",
    "3. A donor is only willing to donate if their recipient receives an organ. A family member of a patient is willing to donate only if their family member receives another organ in exchange (the donor of any another pair donates it to them).\n",
    "4. ∃(di, rj): x[i][j] == 0\n",
    "5. parallel max. 3 transplantations"
   ]
  },
  {
   "cell_type": "markdown",
   "id": "53ee0e58",
   "metadata": {},
   "source": [
    "boolmatrix x\n",
    "x[i][j] == 1 bedeutet, rj akzeptiert di\n",
    "i - Donor, j - Patient\n",
    "Constraints:\n",
    "1. rj kann nur eine Organ akz., deshalb ∀i: sum(x[i][j] ∀j) <= 1\n",
    "2. di kann nur eine Organ don., deshalb ∀j: sum(x[i][j] ∀i) <= 1\n",
    "3. ∀i: ∃j: x[i][j] == 1 => ∃j1: x[j1][i] == 1\n",
    "  - Interpretation: Falls Donor i donated hat, gibt es einen Donor j1, der seine Organ Patient i donated hat\n",
    "  - Achtung, i = index, (di, ri) ist nicht unbedingt ein Pair\n",
    "  - > Änderung: ∀i: ∃j: x[i][j] == 1 => k ist recipient von i ∃j1: x[j1][k] == 1\n",
    "4. ∃(di, rj): x[i][j] == 0\n",
    "5. ∀i1: ∃j2: x[i1][j2] == 1 => \n",
    "   Fall 1 (di1, rj1) (di2, rj2) und x[i1][j2] = x[i2][j1] = 1\n",
    "   Fall 2 (di1, rj1) (di2, rj2) (di3, rj3) und x[i1][j2] = x[i2][j3] = x[i3][j1] = 1\n",
    "\n",
    "Zielfkt.: f = max(sum x[i][j])\n"
   ]
  }
 ],
 "metadata": {
  "language_info": {
   "name": "python"
  }
 },
 "nbformat": 4,
 "nbformat_minor": 5
}
