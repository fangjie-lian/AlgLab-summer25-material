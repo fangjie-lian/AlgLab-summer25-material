{
 "cells": [
  {
   "cell_type": "markdown",
   "id": "9e6c1038",
   "metadata": {},
   "source": [
    "item = (i, value vi, weight wi), I = {all items}\n",
    "for i in range(len(items)), xi = (bool x_i_1, ... , bool x_i_k), wobei sum(x_i_j for j in range(k)) <= 1\n",
    "Constraints:\n",
    "- for j in range(k):\n",
    "  - sum(i.weight * xi.x_i_j for i in range(len(items))) <= Cj \n",
    "  - // Cj = Capacity of Knapsack j\n",
    "\n",
    "f = max( \n",
    "        sum (\n",
    "            sum(i.value * xi.x_i_j for i in range(len(items))) \n",
    "            for j in range(k)\n",
    "        ) \n",
    "    )"
   ]
  }
 ],
 "metadata": {
  "language_info": {
   "name": "python"
  }
 },
 "nbformat": 4,
 "nbformat_minor": 5
}
