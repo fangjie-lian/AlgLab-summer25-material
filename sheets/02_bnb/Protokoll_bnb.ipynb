{
 "cells": [
  {
   "cell_type": "markdown",
   "id": "b798f739",
   "metadata": {},
   "source": [
    "## Relaxation - lokale obere Schranke\n",
    "\n",
    "Ziel: möglichste kleine lokale obere Schranke zu finden\n",
    "1. Greedy für fractional knapsack\n",
    "2. Verbesserung\n",
    "- Ansatz: Ann, x_0 = ... = x_(k-1) = 1, x_k ∈ (0, 1) in fractional solution, löschen das k-te Objekt und führe fractional-greedy-Algo. noch mal aus\n",
    "- **falsch**, die optimale integrale Lsg könnte bspw das 1-te Objekt nicht nehmen, und dann größer als diese suboptimale fractionale Lsg.\n",
    "- korrigierter Ansatz: Ann, x_0 = ... = x_(k-1) = 1, x_k ∈ (0, 1) in fractional solution, dann führe Constraint x_0 + ... + x_k ≤ k ein.\n",
    "\n",
    "**wichtig**: das Ergebnis des Relaxation-Algo. ist besser als alle möglichen integralen Lösungen und ist eine gültige (vllt. fraktionale) Lsg. des originale Problem (mit Constraints von fixierten Variablen)\n",
    "\n",
    "**Performance**: je klein ||Lsg(relaxation) - Lsg(opt, integral)|| ist, desto ist die Performance besser"
   ]
  },
  {
   "cell_type": "markdown",
   "id": "8299977d",
   "metadata": {},
   "source": [
    "## Heuristics - globale untere Schranke\n",
    "Ziel: eine gültige integrale Lsg aus nicht integraler Lsg zu finden\n",
    "\n",
    "Wir schneiden die Bränche, wenn deren lokalen oberen Schranke < globale untere Schranke ist, dann ist es wichtig, die globale untere Schranke möglichst häufig zu aktualisieren\n",
    "\n",
    "Ansatz: finde Variable x ∈ (0, 1) (nur einzig), und setze x = 0"
   ]
  },
  {
   "cell_type": "markdown",
   "id": "c27fdc89",
   "metadata": {},
   "source": [
    "## Suchstrategie: welchen Knoten am nächsten zu untersuchen\n",
    "Ansatz: node, deren value/weight max. ist"
   ]
  },
  {
   "cell_type": "markdown",
   "id": "907dc620",
   "metadata": {},
   "source": [
    "## Branching-Strategie: \n",
    "\n",
    "Ansatz: wähle die fraktionale Var.\n",
    "\n",
    "\n"
   ]
  },
  {
   "cell_type": "markdown",
   "id": "f563a0eb",
   "metadata": {},
   "source": [
    "## Vergleich\n",
    "1 - schlecht 2 - gut"
   ]
  },
  {
   "cell_type": "markdown",
   "id": "549e2e29",
   "metadata": {},
   "source": [
    "> **alle (2): am besten** \n",
    "> - Relaxation: (2) fractional-knapsack-verbessert\n",
    "> - Heuristics: (2) integral->integral, fractional->integral\n",
    "> - Suchstrategie: (2) max(value/weight) first\n",
    "> - Branching-Strategie: (2) fractional node\n",
    "\n",
    "Ergebnisse:\n",
    "1. Iterations: 17/50, Nodes created: 35. Elapsed time: 0:00:00.042031.\n",
    "2. Iterations: 8/10, Nodes created: 17. Elapsed time: 0:00:00.016378.\n",
    "3. Iterations: 16/30, Nodes created: 33. Elapsed time: 0:00:00.035639."
   ]
  },
  {
   "cell_type": "markdown",
   "id": "65309716",
   "metadata": {},
   "source": [
    "> **Heuristics (1):**\n",
    "> - Relaxation: (2) fractional-knapsack-verbessert\n",
    "> - Heuristics: (1) integral->integral\n",
    "> - Suchestrategie: (2) max(value/weight) first\n",
    "> - Branching-Strategie: (2) fractional node\n",
    "  \n",
    "Ergebnisse:\n",
    "1. Iterations: 18/50, Nodes created: 35. Elapsed time: 0:00:00.036965\n",
    "2. Iterations: 10/10, Nodes created: 19. Elapsed time: 0:00:00.020528\n",
    "3. Iterations: 17/30, Nodes created: 33. Elapsed time: 0:00:00.036017"
   ]
  },
  {
   "cell_type": "markdown",
   "id": "5f33eeea",
   "metadata": {},
   "source": [
    "> **Relaxation (1):**\n",
    "> - Relaxation: (1) fractional-knapsack\n",
    "> - Heuristics: (2) integral->integral\n",
    "> - Suchstrategie: (2) max(value/weight) first\n",
    "> - Branching-Strategie: (2) fractional node\n",
    "  \n",
    "Ergebnisse:\n",
    "1. Iterations: 54/50, Nodes created: 99. Elapsed time: 0:00:00.126764.\n",
    "..."
   ]
  },
  {
   "cell_type": "markdown",
   "id": "aeb9e415",
   "metadata": {},
   "source": [
    "> **Suchstrategie (1):**\n",
    "> - Relaxation: (2) fractional-knapsack\n",
    "> - Heuristics: (2) integral->integral\n",
    "> - Suchstrategie: (1) no\n",
    "> - Branching-Strategie: (2) fractional node\n",
    "  \n",
    "Ergebnisse:\n",
    "1. Iterations: 32/50, Nodes created: 35. Elapsed time: 0:00:00.070894.\n",
    "2. Iterations: 14/10, Nodes created: 17. Elapsed time: 0:00:00.034971."
   ]
  },
  {
   "cell_type": "markdown",
   "id": "ac042cc9",
   "metadata": {},
   "source": [
    "> **Branchingstrategie (1):**\n",
    "> - Relaxation: (2) fractional-knapsack\n",
    "> - Heuristics: (2) integral->integral\n",
    "> - Suchstrategie: (2) max(value/weight) first\n",
    "> - Branching-Strategie: (1) first unfixed node\n",
    "  \n",
    "Ergebnisse:\n",
    "1. Iterations: 250/50, Nodes created: 273. Elapsed time: 0:00:00.552261."
   ]
  },
  {
   "cell_type": "markdown",
   "id": "b99a9b06",
   "metadata": {},
   "source": [
    "> **Relaxation(0) Branchingstrategie (1):**\n",
    "> - Relaxation: (0) naive\n",
    "> - Heuristics: (2) integral->integral\n",
    "> - Suchstrategie: (2) max(value/weight) first\n",
    "> - Branching-Strategie: (1) first unfixed node\n",
    "  \n",
    "Ergebnisse:\n",
    "1. Iterations: Iterations: 290, Nodes created: 579. Elapsed time: 0:00:00.782198."
   ]
  },
  {
   "cell_type": "markdown",
   "id": "8c54a3f5",
   "metadata": {},
   "source": [
    "> **Relaxation(-1) Branchingstrategie (1):**\n",
    "> - Relaxation: (-1) very naive\n",
    "> - Heuristics: (2) integral->integral\n",
    "> - Suchstrategie: (2) max(value/weight) first\n",
    "> - Branching-Strategie: (1) first unfixed node\n",
    "  \n",
    "Ergebnisse:\n",
    "1. Iterations: Iterations: 1028, Nodes created: 1283. Elapsed time: 0:00:02.858150."
   ]
  }
 ],
 "metadata": {
  "language_info": {
   "name": "python"
  }
 },
 "nbformat": 4,
 "nbformat_minor": 5
}
