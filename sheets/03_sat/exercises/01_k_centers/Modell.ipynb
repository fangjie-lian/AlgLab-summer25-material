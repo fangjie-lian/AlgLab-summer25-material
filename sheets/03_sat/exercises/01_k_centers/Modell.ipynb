{
 "cells": [
  {
   "cell_type": "markdown",
   "id": "77b6bab8",
   "metadata": {},
   "source": [
    "Gegeben: \n",
    "- weighted, undirected graph G=(V,E)\n",
    "V - Neighborhood Centers, E=(v,w) - direkte Routes zwi. Centers mit Weight d_vw (min. Reisezeit), v, w ∈ V\n",
    "- max. Anzahl k von GEWÄHLTEN Centers\n",
    "  \n",
    "Gesucht: \n",
    "\n",
    "f = min{\n",
    "        max{ min{d(v, c) for c∈C} for v∈V }\n",
    "        for C ⊆ V, |C| ≤ k\n",
    "    }\n",
    "\n",
    "C repräsentiert gewählte Centers"
   ]
  },
  {
   "cell_type": "markdown",
   "id": "51043186",
   "metadata": {},
   "source": [
    "SAT: (x1 ⋁ x2) ⋀ (x3 ⋁ x2 ⋁ x4)"
   ]
  },
  {
   "cell_type": "markdown",
   "id": "95c72cdc",
   "metadata": {},
   "source": [
    "1. **Formulate the Decision Variant as a SAT Problem** \n",
    "   \n",
    "   Begin by formulating the decision variant of the Vertex K-Center Problem as a SAT problem with cardinality constraints. The decision variant asks whether a solution exists with an objective value of at most c for a given k. c ∈ |R_0_+. \n",
    "   \n",
    "   Think about how to minimize the number of queries to the decision variant by identifying the possible values that c can take. - in dists\n",
    "2. **Implement a Heuristic for an Upper Bound** \n",
    "    \n",
    "    Develop a heuristic to quickly obtain an upper bound on the objective value. This heuristic does not need to be optimal but should be efficient enough to find an initial feasible solution for the problem.\n",
    "    \n",
    "3. **Implement the Decision Variant Using a SAT Solver** \n",
    "   \n",
    "   Implement the decision variant, which, for a given c, either finds a feasible solution with |C|≤ k and objective value at most c or proves that no such solution exists. Use a SAT solver for this task.\n",
    "4. **Develop an Exact Solver for the Minimum Feasible c** \n",
    "   \n",
    "   Using the decision variant, implement an exact solver that identifies the smallest feasible c and returns the corresponding set C. This will require multiple calls to the decision variant. Implement your solution in solution.py. To verify your implementation, run python3 verify.py in the terminal."
   ]
  },
  {
   "cell_type": "markdown",
   "id": "8894d970",
   "metadata": {},
   "source": [
    "Constraints:\n",
    "- Für v ∈ V, rechne d(v, w) für w ∈ V∖{v}, ∃ w mit d(v,w) <= c, w ∈ C (d. h. Clause: alle w mit d(v,w)<=c)\n",
    "- |C| <= k (d.h. add_atmost(V, k))"
   ]
  },
  {
   "cell_type": "markdown",
   "id": "2b93485b",
   "metadata": {},
   "source": []
  }
 ],
 "metadata": {
  "language_info": {
   "name": "python"
  }
 },
 "nbformat": 4,
 "nbformat_minor": 5
}
